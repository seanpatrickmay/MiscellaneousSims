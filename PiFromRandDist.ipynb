{
 "cells": [
  {
   "cell_type": "code",
   "execution_count": 27,
   "id": "8e32cbda-ab56-4f2f-bf3a-a5409b2232a3",
   "metadata": {},
   "outputs": [],
   "source": [
    "import random\n",
    "import matplotlib as plt"
   ]
  },
  {
   "cell_type": "code",
   "execution_count": 28,
   "id": "c2bcabd4-c7ad-416f-a38e-f946e8b8fd83",
   "metadata": {},
   "outputs": [],
   "source": [
    "ITERATION_NUMS = [1, 10, 100, 1000, 10000, 100000, 1000000, 10000000]"
   ]
  },
  {
   "cell_type": "code",
   "execution_count": 29,
   "id": "e68c26a6-1457-4cb7-85d4-ff1d48b4bdd3",
   "metadata": {},
   "outputs": [
    {
     "name": "stdout",
     "output_type": "stream",
     "text": [
      "[0.0, 3.2, 3.2, 3.096, 3.1536, 3.1416, 3.140884, 3.140906]\n"
     ]
    }
   ],
   "source": [
    "pi_approximations = []\n",
    "for iteration_num in ITERATION_NUMS:\n",
    "    num_in_circle = 0\n",
    "    for _ in range(iteration_num):\n",
    "        first_rand = random.random()\n",
    "        second_rand = random.random()\n",
    "        squared_sum = first_rand * first_rand + second_rand * second_rand\n",
    "        if squared_sum <= 1:\n",
    "            num_in_circle += 1\n",
    "    pi_approximations.append(num_in_circle / iteration_num * 4)\n",
    "print(pi_approximations)"
   ]
  }
 ],
 "metadata": {
  "kernelspec": {
   "display_name": "Python 3 (ipykernel)",
   "language": "python",
   "name": "python3"
  },
  "language_info": {
   "codemirror_mode": {
    "name": "ipython",
    "version": 3
   },
   "file_extension": ".py",
   "mimetype": "text/x-python",
   "name": "python",
   "nbconvert_exporter": "python",
   "pygments_lexer": "ipython3",
   "version": "3.12.6"
  }
 },
 "nbformat": 4,
 "nbformat_minor": 5
}
