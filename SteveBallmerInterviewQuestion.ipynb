{
 "cells": [
  {
   "cell_type": "markdown",
   "id": "a612b53e-3e59-47b5-84fe-61c4c98554dc",
   "metadata": {},
   "source": [
    "XD\n",
    "\n",
    "https://youtube.com/shorts/05sY8gsiemQ?si=Lve_ZFHLMiVaIBOd"
   ]
  },
  {
   "cell_type": "code",
   "execution_count": 53,
   "id": "daba42ce-3db6-4af8-88a1-354417f2c152",
   "metadata": {},
   "outputs": [],
   "source": [
    "import random\n",
    "import math"
   ]
  },
  {
   "cell_type": "code",
   "execution_count": 78,
   "id": "138962ef-4212-4ddb-bf9f-fd77ab096701",
   "metadata": {},
   "outputs": [],
   "source": [
    "NUM_RANGE = 100\n",
    "MAX_PAYOFF = 5"
   ]
  },
  {
   "cell_type": "code",
   "execution_count": 79,
   "id": "5a374262-9bb1-45f9-9bc2-142c54a46183",
   "metadata": {},
   "outputs": [],
   "source": [
    "def simulateRound(num_range, max_pay):\n",
    "    number = math.ceil(random.random() * num_range)\n",
    "    #print(f\"Number is: {number}\")\n",
    "\n",
    "    ceil = num_range\n",
    "    floor = 0\n",
    "    \n",
    "    guess = num_range / 2\n",
    "    guesses = 0\n",
    "    while guess != number:\n",
    "        #print(f\"Guess is: {guess}\")\n",
    "        guesses += 1\n",
    "        if guess < number:\n",
    "            floor = guess + 1\n",
    "            guess = math.ceil((ceil + floor) / 2)\n",
    "        else:\n",
    "            ceil = guess - 1\n",
    "            guess = math.ceil((ceil + floor) / 2)\n",
    "        #print(floor, ceil)\n",
    "        #print(f\"New guess is: {guess}\")\n",
    "            \n",
    "    payoff = max_pay - guesses\n",
    "\n",
    "    return payoff"
   ]
  },
  {
   "cell_type": "code",
   "execution_count": 81,
   "id": "c5972bc8-c53d-4cbc-9bb8-0d99084af571",
   "metadata": {},
   "outputs": [
    {
     "name": "stdout",
     "output_type": "stream",
     "text": [
      "0.198894\n"
     ]
    }
   ],
   "source": [
    "NUM_ITERATIONS = 1000000\n",
    "payoff_sum = 0\n",
    "for _ in range(NUM_ITERATIONS):\n",
    "    payoff_sum += simulateRound(NUM_RANGE, MAX_PAYOFF)\n",
    "observed_ev = payoff_sum / NUM_ITERATIONS\n",
    "\n",
    "print(observed_ev)"
   ]
  }
 ],
 "metadata": {
  "kernelspec": {
   "display_name": "Python 3 (ipykernel)",
   "language": "python",
   "name": "python3"
  },
  "language_info": {
   "codemirror_mode": {
    "name": "ipython",
    "version": 3
   },
   "file_extension": ".py",
   "mimetype": "text/x-python",
   "name": "python",
   "nbconvert_exporter": "python",
   "pygments_lexer": "ipython3",
   "version": "3.12.6"
  }
 },
 "nbformat": 4,
 "nbformat_minor": 5
}
